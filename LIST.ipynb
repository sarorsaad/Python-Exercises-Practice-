{
 "cells": [
  {
   "cell_type": "markdown",
   "id": "dfc81c6a",
   "metadata": {},
   "source": [
    "<div id=\"list\" class=\"alert alert-block alert-info\">\n",
    "<b>List:</b> .\n",
    "</div>\n",
    "\n",
    "### Lists are used to store multiple items in a single variable.\n",
    "### Lists are created using square brackets:"
   ]
  },
  {
   "cell_type": "code",
   "execution_count": 2,
   "id": "08ae86d2",
   "metadata": {},
   "outputs": [],
   "source": [
    "f=[1,2,3, 'ali, [1,2,3]']"
   ]
  },
  {
   "cell_type": "markdown",
   "id": "cfefa70e",
   "metadata": {},
   "source": [
    "<div class=\"alert alert-block alert-success\">\n",
    "<h1>Indexing:</h1> \n",
    "</div>\n",
    "\n",
    "### To access an element by its index we need to use square brackets\n",
    "### Each item in the list has a value( name) and an index(its position in the list). Python uses zero-based indexing. That means, the first element(value ‘’) has an index 0, the second(value ‘’) has index 1, and so on.\n"
   ]
  },
  {
   "cell_type": "code",
   "execution_count": 4,
   "id": "9ba1d34d",
   "metadata": {},
   "outputs": [
    {
     "data": {
      "text/plain": [
       "'ali'"
      ]
     },
     "execution_count": 4,
     "metadata": {},
     "output_type": "execute_result"
    }
   ],
   "source": [
    "f=[5, 2, 3, 'ali', [1,2,3]]\n",
    "f[0]\n",
    "f[3]\n"
   ]
  },
  {
   "cell_type": "markdown",
   "id": "925a0dd6",
   "metadata": {},
   "source": [
    "### But what if we want to take the last element of a list? Or the penultimate element? In this case, we want to enumerate elements from the tail of a list\n",
    "### To address this requirement there is negative indexing. So, instead of using indexes from zero and above, we can use indexes from -1 and below.\n"
   ]
  },
  {
   "cell_type": "code",
   "execution_count": 5,
   "id": "ed2f51e5",
   "metadata": {},
   "outputs": [
    {
     "data": {
      "text/plain": [
       "[1, 2, 3]"
      ]
     },
     "execution_count": 5,
     "metadata": {},
     "output_type": "execute_result"
    }
   ],
   "source": [
    "f=[1,2,3, 'ali' , [1,2,3]]\n",
    "f[-1]\n"
   ]
  },
  {
   "cell_type": "markdown",
   "id": "0008a0ee",
   "metadata": {},
   "source": [
    "<div class=\"alert alert-block alert-success\">\n",
    "<h1>Assignment:</h1> \n",
    "</div>\n",
    " \n",
    "### Before we used indexing only for accessing the content of a list cell. But it’s also possible to change cell content using an assignment operation:\n",
    "### We can freely use positive or negative indexing for assignment."
   ]
  },
  {
   "cell_type": "code",
   "execution_count": 6,
   "id": "11a91763",
   "metadata": {},
   "outputs": [
    {
     "name": "stdout",
     "output_type": "stream",
     "text": [
      "[200, 2, 3, 'ali', 'saror']\n"
     ]
    }
   ],
   "source": [
    "f=[1,2,3, 'ali' , [1,2,3]]\n",
    "f[0]=200\n",
    "f[-1]='saror'\n",
    "print(f)\n"
   ]
  },
  {
   "cell_type": "markdown",
   "id": "a9a002d7",
   "metadata": {},
   "source": [
    "\n",
    "<div class=\"alert alert-block alert-success\">\n",
    "<h1>Deletion:</h1> \n",
    "</div>\n",
    "\n",
    "### We can also easily delete any element from the list by using indexing and del statement:"
   ]
  },
  {
   "cell_type": "code",
   "execution_count": 7,
   "id": "0d8cb153",
   "metadata": {},
   "outputs": [
    {
     "name": "stdout",
     "output_type": "stream",
     "text": [
      "[2, 3, 'ali', [1, 2, 3]]\n"
     ]
    }
   ],
   "source": [
    "f=[1,2,3, 'ali' , [1,2,3]]\n",
    "del f[0]\n",
    "print(f)"
   ]
  },
  {
   "cell_type": "markdown",
   "id": "a5f3c91a",
   "metadata": {},
   "source": [
    "<div class=\"alert alert-block alert-success\">\n",
    "<h1>Slice Notation:</h1> \n",
    "</div>\n",
    " \n",
    "### As it was shown, indexing allows you to access/change/delete only a single cell of a list. What if we want to get a sublist of the list. Or we want to update a bunch of cells at once? Or we want to go on a frenzy and extend a list with an arbitrary number of new cells in any position?\n",
    "\n",
    "### Those and lots of other cool tricks can be done with slice notation. Let’s look at this subject.\n",
    "### The full slice syntax is: start:stop:step. start refers to the index of the element which is used as a start of our slice. stop refers to the index of the element we should stop just before to finish our slice. step allows you to take each nth-element within a start:stop range\n",
    "\n",
    "<div class=\"alert alert-block alert-success\">\n",
    "<h1>to take a sublist from :</h1> \n",
    "</div>\n",
    " "
   ]
  },
  {
   "cell_type": "code",
   "execution_count": 8,
   "id": "8cc25afb",
   "metadata": {},
   "outputs": [
    {
     "data": {
      "text/plain": [
       "[1, 2, 3]"
      ]
     },
     "execution_count": 8,
     "metadata": {},
     "output_type": "execute_result"
    }
   ],
   "source": [
    "f=[1,2,3, 'ali' , [1,2,3]]\n",
    "\n",
    "f[0:3]"
   ]
  },
  {
   "cell_type": "markdown",
   "id": "ade25a71",
   "metadata": {},
   "source": [
    "<div class=\"alert alert-block alert-success\">\n",
    "<h1>Taking n first elements of a list:</h1> \n",
    "</div>\n",
    "\n",
    "### Slice notation allows you to skip any element of the full syntax. If we skip the start number then it starts from 0 index:"
   ]
  },
  {
   "cell_type": "code",
   "execution_count": 9,
   "id": "a8623670",
   "metadata": {},
   "outputs": [
    {
     "data": {
      "text/plain": [
       "[1, 2, 3, 'ali']"
      ]
     },
     "execution_count": 9,
     "metadata": {},
     "output_type": "execute_result"
    }
   ],
   "source": [
    "f=[1,2,3, 'ali' , [1,2,3]]\n",
    "f[:4]\n"
   ]
  },
  {
   "cell_type": "markdown",
   "id": "0c5c3cfc",
   "metadata": {},
   "source": [
    "\n",
    "<div class=\"alert alert-block alert-success\">\n",
    "<h1>Taking n last elements of a list:</h1> \n",
    "</div>\n",
    "\n",
    "### Negative indexes allow us to easily take n-last elements of a list"
   ]
  },
  {
   "cell_type": "code",
   "execution_count": 10,
   "id": "f7e0844c",
   "metadata": {},
   "outputs": [
    {
     "data": {
      "text/plain": [
       "['ali', [1, 2, 3]]"
      ]
     },
     "execution_count": 10,
     "metadata": {},
     "output_type": "execute_result"
    }
   ],
   "source": [
    "f=[1,2,3, 'ali' , [1,2,3]]\n",
    "f[-2:]\n"
   ]
  },
  {
   "cell_type": "markdown",
   "id": "7a4979df",
   "metadata": {},
   "source": [
    "\n",
    "<div class=\"alert alert-block alert-success\">\n",
    "<h1>Taking every nth-element of a list:</h1> \n",
    "</div>\n",
    "\n",
    "### What if we want to have only every 2-nd element of nums? This is where the step parameter comes into play:\n",
    "### Here we omit start/stop parameters and use only step. By providing start we can skip some elements"
   ]
  },
  {
   "cell_type": "code",
   "execution_count": 11,
   "id": "bf00f4fc",
   "metadata": {},
   "outputs": [
    {
     "data": {
      "text/plain": [
       "[1, 3, [1, 2, 3]]"
      ]
     },
     "execution_count": 11,
     "metadata": {},
     "output_type": "execute_result"
    }
   ],
   "source": [
    "f=[1,2,3, 'ali' , [1,2,3]]\n",
    "f[::2]"
   ]
  },
  {
   "cell_type": "markdown",
   "id": "0c24225c",
   "metadata": {},
   "source": [
    "<div class=\"alert alert-block alert-success\">\n",
    "<h1>Using Negative Step and Reversed List:</h1> \n",
    "</div>"
   ]
  },
  {
   "cell_type": "code",
   "execution_count": 12,
   "id": "fc94987e",
   "metadata": {},
   "outputs": [
    {
     "data": {
      "text/plain": [
       "[[1, 2, 3], 'ali', 3, 2, 1]"
      ]
     },
     "execution_count": 12,
     "metadata": {},
     "output_type": "execute_result"
    }
   ],
   "source": [
    "f=[1,2,3, 'ali' , [1,2,3]]\n",
    "f[::-1]"
   ]
  }
 ],
 "metadata": {
  "kernelspec": {
   "display_name": "Python 3 (ipykernel)",
   "language": "python",
   "name": "python3"
  },
  "language_info": {
   "codemirror_mode": {
    "name": "ipython",
    "version": 3
   },
   "file_extension": ".py",
   "mimetype": "text/x-python",
   "name": "python",
   "nbconvert_exporter": "python",
   "pygments_lexer": "ipython3",
   "version": "3.9.7"
  }
 },
 "nbformat": 4,
 "nbformat_minor": 5
}
