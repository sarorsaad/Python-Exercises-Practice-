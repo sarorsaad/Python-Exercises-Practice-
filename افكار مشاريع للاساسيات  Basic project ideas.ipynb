{
 "cells": [
  {
   "cell_type": "markdown",
   "id": "3c87d9fe",
   "metadata": {},
   "source": [
    " <div class=\"alert alert-block alert-danger\">\n",
    "<h1> افكار مشاريع للاساسيات\n",
    "    \n",
    "Basic project ideas\n",
    " </h1> \n",
    "</div>\n",
    " "
   ]
  },
  {
   "cell_type": "markdown",
   "id": "32ac8424",
   "metadata": {},
   "source": [
    "<div class=\"alert alert-block alert-info\">\n",
    "<h1>   برنامج يأخذ قائمة الأرقام ويقسمها إلى قائمتين ، إحداهما بالأرقام الزوجية\n",
    "والآخر لديه الأرقام الفردية ويطبعها  وواحده فيها الارقام الفردية ويقوم بطباعتها\n",
    "    \n",
    "      1- The first project:\n",
    "    \n",
    "- A program that takes a list of numbers and divides it into 2 lists, one with even numbers\n",
    "And one has the odd numbers and prints them </h1> .\n",
    "</div>\n"
   ]
  },
  {
   "cell_type": "markdown",
   "id": "cc90ca7d",
   "metadata": {},
   "source": [
    "#  step 1 create dynamic list"
   ]
  },
  {
   "cell_type": "code",
   "execution_count": 14,
   "id": "e4d47dfb",
   "metadata": {},
   "outputs": [
    {
     "name": "stdout",
     "output_type": "stream",
     "text": [
      " Enter length of list 5\n",
      "enter elements3\n",
      "enter elements5\n",
      "enter elements6\n",
      "enter elements7\n",
      "enter elements9\n",
      "[3, 5, 6, 7, 9]\n"
     ]
    }
   ],
   "source": [
    "L=[]  \n",
    "n=int(input(' Enter length of list '))\n",
    "for i in range(1,1+n):\n",
    "    e=int(input('enter elements'))\n",
    "    L.append(e)\n",
    "print(L)"
   ]
  },
  {
   "cell_type": "markdown",
   "id": "b07b7d6c",
   "metadata": {},
   "source": [
    "# step 2 create  even and odd  element list \n",
    "# Step 3 : then traverse each element in the dynamic  list.\n",
    "    \n",
    "# Step 4 : every element is divided by 2, if remainder is 0 then it’s even number and add to the even list, otherwise its odd number and add to the odd list."
   ]
  },
  {
   "cell_type": "code",
   "execution_count": 15,
   "id": "7d6e0c38",
   "metadata": {},
   "outputs": [
    {
     "name": "stdout",
     "output_type": "stream",
     "text": [
      "evesn list: [6]\n",
      "odd list: [3, 5, 7, 9]\n"
     ]
    }
   ],
   "source": [
    "\n",
    "even=[]\n",
    "odd= []\n",
    "for j in L:\n",
    "    if(j%2==0):\n",
    "        even.append(j)\n",
    "    else:\n",
    "        odd.append(j)\n",
    "print('evesn list:',even)\n",
    "print('odd list:',odd)"
   ]
  },
  {
   "cell_type": "markdown",
   "id": "dd214015",
   "metadata": {},
   "source": [
    "<div class=\"alert alert-block alert-info\">\n",
    "<h1>\n",
    "    برنامج بياخد جملة من المستخدم ويستخرج عدد الكلمات في الجملة من غير\n",
    "تكرار\n",
    "    \n",
    "       The second project: \n",
    "    \n",
    "A program that takes a sentence from the user and extracts the number of words in the sentence without\n",
    "Repetition  </h1> \n",
    "</div>\n"
   ]
  },
  {
   "cell_type": "code",
   "execution_count": 17,
   "id": "e3da4308",
   "metadata": {},
   "outputs": [
    {
     "name": "stdout",
     "output_type": "stream",
     "text": [
      " Enter your sentence my name is saror\n",
      "my name is saror\n",
      "Frequencies\n",
      "[1, 1, 1, 1]\n",
      "\n",
      "Pairs\n",
      "[('my', 1), ('name', 1), ('is', 1), ('saror', 1)]\n"
     ]
    }
   ],
   "source": [
    "your_sentence =input(' Enter your sentence ')\n",
    "wordlist = your_sentence.split()\n",
    "\n",
    "wordfreq = []\n",
    "for i in wordlist:\n",
    "    wordfreq.append(wordlist.count(i))\n",
    "    \n",
    "print(your_sentence )\n",
    "print(\"Frequencies\\n\" + str(wordfreq) + \"\\n\")\n",
    "print(\"Pairs\\n\" + str(list(zip(wordlist, wordfreq))))"
   ]
  },
  {
   "cell_type": "markdown",
   "id": "05afeb56",
   "metadata": {},
   "source": [
    "<div class=\"alert alert-block alert-info\">\n",
    "<h1> المشروع الثالث:  \n",
    "- برنامج يأخذ رقما من المستخدم ويطبع الأرقام من 0 إلى هذا الرقم\n",
    "    \n",
    "     3- The third project: \n",
    "- A program that takes a number from the user and prints the numbers from 0 to this number\n",
    " </h1> \n",
    "</div>\n",
    "\n"
   ]
  },
  {
   "cell_type": "code",
   "execution_count": 14,
   "id": "7bfd3a93",
   "metadata": {},
   "outputs": [
    {
     "name": "stdout",
     "output_type": "stream",
     "text": [
      " Enter your  number 34\n",
      "0 1 2 3 4 5 6 7 8 9 10 11 12 13 14 15 16 17 18 19 20 21 22 23 24 25 26 27 28 29 30 31 32 33 34 "
     ]
    }
   ],
   "source": [
    "n=int(input(' Enter your  number '))\n",
    "for i in range(0,n+1):\n",
    "    print(i ,end=' ')\n",
    "    \n",
    " \n",
    "     \n"
   ]
  },
  {
   "cell_type": "markdown",
   "id": "c3d65731",
   "metadata": {},
   "source": [
    "<div class=\"alert alert-block alert-info\">\n",
    "<h1>برنامج  بايثون ياخذ رقمين من المستخدم ويطبع كل ألارقام التي تقبل القسمة على\n",
    "الرقم الثاني من صفرالى  الرقم الاول\n",
    "    \n",
    "    4- Fourth project: \n",
    "The Python program takes two numbers from the user and prints all the numbers that are divisible by\n",
    "The second number from zero to the first number\n",
    " </h1> \n",
    "</div>\n"
   ]
  },
  {
   "cell_type": "code",
   "execution_count": 17,
   "id": "e5459d60",
   "metadata": {},
   "outputs": [
    {
     "name": "stdout",
     "output_type": "stream",
     "text": [
      "Enter first number 100\n",
      "Enter second number 4\n"
     ]
    },
    {
     "ename": "TypeError",
     "evalue": "'str' object cannot be interpreted as an integer",
     "output_type": "error",
     "traceback": [
      "\u001b[1;31m---------------------------------------------------------------------------\u001b[0m",
      "\u001b[1;31mTypeError\u001b[0m                                 Traceback (most recent call last)",
      "\u001b[1;32m~\\AppData\\Local\\Temp/ipykernel_79848/3620043570.py\u001b[0m in \u001b[0;36m<module>\u001b[1;34m\u001b[0m\n\u001b[0;32m      3\u001b[0m \u001b[0mx\u001b[0m\u001b[1;33m=\u001b[0m\u001b[1;34m'first first number '\u001b[0m\u001b[1;33m\u001b[0m\u001b[1;33m\u001b[0m\u001b[0m\n\u001b[0;32m      4\u001b[0m \u001b[0my\u001b[0m\u001b[1;33m=\u001b[0m\u001b[1;34m' second number'\u001b[0m\u001b[1;33m\u001b[0m\u001b[1;33m\u001b[0m\u001b[0m\n\u001b[1;32m----> 5\u001b[1;33m \u001b[1;32mfor\u001b[0m \u001b[0mi\u001b[0m \u001b[1;32min\u001b[0m \u001b[0mrange\u001b[0m \u001b[1;33m(\u001b[0m\u001b[1;36m0\u001b[0m\u001b[1;33m,\u001b[0m\u001b[0mx\u001b[0m\u001b[1;33m)\u001b[0m\u001b[1;33m:\u001b[0m\u001b[1;33m\u001b[0m\u001b[1;33m\u001b[0m\u001b[0m\n\u001b[0m\u001b[0;32m      6\u001b[0m     \u001b[1;32mif\u001b[0m \u001b[0mx\u001b[0m \u001b[1;33m%\u001b[0m \u001b[0my\u001b[0m\u001b[1;33m==\u001b[0m \u001b[1;36m0\u001b[0m \u001b[1;33m:\u001b[0m\u001b[1;33m\u001b[0m\u001b[1;33m\u001b[0m\u001b[0m\n\u001b[0;32m      7\u001b[0m         \u001b[0mprint\u001b[0m\u001b[1;33m(\u001b[0m\u001b[0mi\u001b[0m\u001b[1;33m)\u001b[0m\u001b[1;33m\u001b[0m\u001b[1;33m\u001b[0m\u001b[0m\n",
      "\u001b[1;31mTypeError\u001b[0m: 'str' object cannot be interpreted as an integer"
     ]
    }
   ],
   "source": [
    "x=int(input('Enter first number '))\n",
    "y =int(input('Enter second number '))\n",
    "x='first first number '\n",
    "y=' second number'\n",
    "for i in range (0,x):\n",
    "    if x % y== 0 :\n",
    "        print(i)"
   ]
  },
  {
   "cell_type": "markdown",
   "id": "9f799e4e",
   "metadata": {},
   "source": [
    "<div class=\"alert alert-block alert-info\">\n",
    "<h1>        5- المشروع الخامس:\n",
    "    \n",
    "برنامج يأخذ رقمين من المستخدم ويطبع كل الارقام التي تقبل القسمه على الرقمين من     0 إلى 100\n",
    "    \n",
    "       5- The fifth project:\n",
    "A program that takes two numbers from the user and prints all the numbers that are divisible by the two numbers from 0 to 100\n",
    " </h1> \n",
    "</div>"
   ]
  },
  {
   "cell_type": "code",
   "execution_count": 13,
   "id": "3de6e969",
   "metadata": {},
   "outputs": [
    {
     "name": "stdout",
     "output_type": "stream",
     "text": [
      "Enter first number 6\n",
      "Enter second number 7\n",
      "0 /42 /84 /"
     ]
    }
   ],
   "source": [
    "x=int(input('Enter first number '))\n",
    "y =int(input('Enter second number '))\n",
    "for i in range (0,100):\n",
    "     if (i % x == 0 and i % y== 0):\n",
    "        print(i ,end=' /')"
   ]
  },
  {
   "cell_type": "markdown",
   "id": "2145fce6",
   "metadata": {},
   "source": [
    "<div class=\"alert alert-block alert-info\">\n",
    "<h1>    المشروع السادس:\n",
    "- جمع كل المشاريع السابقة في لعبة بسيطة باستخدام البرمجة الشيئية ، يستطيع اللاعب اختيار أي لعبة منهم ، بالإضافة إلى ذلك  إذا أدخل اللاعب الحرف اكس  يتم الخروج\n",
    "من اللعبة وعند الانتهاء من اللعبة يسأل اللاعب عما إذا كان يريد اللعب مرة أخرى\n",
    "أخرى إذا وافق  تتم طباعة جميع الألعاب ليختار من بينها  وإذا رفض  يتم طباعه\n",
    "رسالة وداع والخروج من اللعبة\n",
    "    \n",
    "            Sixth project:\n",
    "- Collecting all the previous projects in a simple game using object-oriented programming, the player can choose any of them, in addition, if the player enters the letter X, the exit is exited\n",
    "From the game and when the game is finished the player is asked if he wants to play again\n",
    "Others If approved, all games are printed for him to choose from, and if he refuses, it is printed\n",
    "Farewell message and exit the game\n",
    " </h1> \n",
    "</div>"
   ]
  },
  {
   "cell_type": "code",
   "execution_count": null,
   "id": "7f828b85",
   "metadata": {},
   "outputs": [],
   "source": []
  }
 ],
 "metadata": {
  "kernelspec": {
   "display_name": "Python 3 (ipykernel)",
   "language": "python",
   "name": "python3"
  },
  "language_info": {
   "codemirror_mode": {
    "name": "ipython",
    "version": 3
   },
   "file_extension": ".py",
   "mimetype": "text/x-python",
   "name": "python",
   "nbconvert_exporter": "python",
   "pygments_lexer": "ipython3",
   "version": "3.9.7"
  }
 },
 "nbformat": 4,
 "nbformat_minor": 5
}
