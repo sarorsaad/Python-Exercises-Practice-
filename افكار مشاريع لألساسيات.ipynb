{
 "cells": [
  {
   "cell_type": "markdown",
   "id": "5fab2d88",
   "metadata": {},
   "source": [
    "# افكار مشاريع لألساسيات"
   ]
  },
  {
   "cell_type": "markdown",
   "id": "872e1c3b",
   "metadata": {},
   "source": []
  },
  {
   "cell_type": "markdown",
   "id": "4ab5f58f",
   "metadata": {},
   "source": [
    "<div class=\"alert alert-block alert-info\">\n",
    "<h1>A program that takes a list of numbers and divides it into 2 lists, one with even numbers\n",
    "And one has the odd numbers and prints them:</h1> .\n",
    "</div>\n"
   ]
  },
  {
   "cell_type": "markdown",
   "id": "04539eba",
   "metadata": {},
   "source": [
    "<div class=\"alert alert-block alert-success\">\n",
    "<h1>Step 1 : create a user input list.:</h1> .\n",
    "</div>"
   ]
  },
  {
   "cell_type": "code",
   "execution_count": null,
   "id": "80cadca7",
   "metadata": {},
   "outputs": [],
   "source": [
    "your_list=int(input(' Enter your list numbers '))\n",
    "print(your_list)"
   ]
  },
  {
   "cell_type": "markdown",
   "id": "1d589db6",
   "metadata": {},
   "source": [
    "<div class=\"alert alert-block alert-success\">\n",
    "<h1>Step 2 : take two empty list one for odd and another for even.:</h1> .\n",
    "</div>"
   ]
  },
  {
   "cell_type": "code",
   "execution_count": null,
   "id": "1cafb39c",
   "metadata": {},
   "outputs": [],
   "source": [
    "your_list=int(input(' Enter your list numbers '))\n",
    "Even = []\n",
    "Odd  = []\n"
   ]
  },
  {
   "cell_type": "markdown",
   "id": "04fdaafd",
   "metadata": {},
   "source": [
    "<div class=\"alert alert-block alert-success\">\n",
    "<h1>Step 3 : then traverse each element in the main list.\n",
    "    \n",
    "Step 4 : every element is divided by 2, if remainder is 0 then it’s even number and add to the even list, otherwise its odd number and add to the odd list.:</h1> .\n",
    "</div>"
   ]
  },
  {
   "cell_type": "code",
   "execution_count": null,
   "id": "a389b085",
   "metadata": {},
   "outputs": [],
   "source": [
    "\n",
    "your_list=int(input(' Enter your list numbers '))\n",
    "Even = []\n",
    "Odd  = []\n",
    "for i in your_list:\n",
    "    if(i % 2 == 0):\n",
    "        Even.append(i)\n",
    "    else:\n",
    "        Odd.append(i)\n",
    "        \n",
    "print('even numbers', Even)\n",
    "print('odd numbers', Odd)\n",
    "    "
   ]
  },
  {
   "cell_type": "code",
   "execution_count": null,
   "id": "15687a98",
   "metadata": {},
   "outputs": [],
   "source": []
  }
 ],
 "metadata": {
  "kernelspec": {
   "display_name": "Python 3 (ipykernel)",
   "language": "python",
   "name": "python3"
  },
  "language_info": {
   "codemirror_mode": {
    "name": "ipython",
    "version": 3
   },
   "file_extension": ".py",
   "mimetype": "text/x-python",
   "name": "python",
   "nbconvert_exporter": "python",
   "pygments_lexer": "ipython3",
   "version": "3.9.7"
  }
 },
 "nbformat": 4,
 "nbformat_minor": 5
}
