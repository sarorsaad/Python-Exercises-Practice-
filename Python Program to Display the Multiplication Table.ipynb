{
 "cells": [
  {
   "cell_type": "markdown",
   "id": "50c394ab",
   "metadata": {},
   "source": [
    "# Python Program to Display the Multiplication Table\n",
    "### take input from users"
   ]
  },
  {
   "cell_type": "code",
   "execution_count": 1,
   "id": "278adaf7",
   "metadata": {
    "scrolled": true
   },
   "outputs": [
    {
     "name": "stdout",
     "output_type": "stream",
     "text": [
      "Enter Start4\n",
      "Enter End3\n",
      "4\n",
      "3\n"
     ]
    }
   ],
   "source": [
    "start=int(input('Enter Start'))     # cast\n",
    "end   =   int(input('Enter End'))\n",
    "\n",
    "\n",
    "print(start)\n",
    "print(end)"
   ]
  },
  {
   "cell_type": "markdown",
   "id": "035c04fd",
   "metadata": {},
   "source": [
    "#  print  seires of numbers  with for loop and range function()"
   ]
  },
  {
   "cell_type": "code",
   "execution_count": 2,
   "id": "8e62e481",
   "metadata": {},
   "outputs": [
    {
     "name": "stdout",
     "output_type": "stream",
     "text": [
      "Enter Start3\n",
      "Enter End6\n",
      "3\n",
      "4\n",
      "5\n"
     ]
    }
   ],
   "source": [
    "start=int(input('Enter Start'))     # cast\n",
    "end   =   int(input('Enter End'))\n",
    "\n",
    "for x in range(start,end):\n",
    "    print(x)"
   ]
  },
  {
   "cell_type": "markdown",
   "id": "cc2abc4a",
   "metadata": {},
   "source": [
    "# to make nested loop(make child loop (y) for aperant loop(x)"
   ]
  },
  {
   "cell_type": "code",
   "execution_count": 3,
   "id": "b19e71e8",
   "metadata": {},
   "outputs": [
    {
     "name": "stdout",
     "output_type": "stream",
     "text": [
      "Enter Start2\n",
      "Enter End4\n",
      "2 X 1 = 2 \n",
      "2 X 2 = 4 \n",
      "2 X 3 = 6 \n",
      "2 X 4 = 8 \n",
      "2 X 5 = 10 \n",
      "2 X 6 = 12 \n",
      "2 X 7 = 14 \n",
      "2 X 8 = 16 \n",
      "2 X 9 = 18 \n",
      "2 X 10 = 20 \n",
      "..............\n",
      "3 X 1 = 3 \n",
      "3 X 2 = 6 \n",
      "3 X 3 = 9 \n",
      "3 X 4 = 12 \n",
      "3 X 5 = 15 \n",
      "3 X 6 = 18 \n",
      "3 X 7 = 21 \n",
      "3 X 8 = 24 \n",
      "3 X 9 = 27 \n",
      "3 X 10 = 30 \n",
      "..............\n"
     ]
    }
   ],
   "source": [
    "start=int(input('Enter Start'))     # cast\n",
    "end   =   int(input('Enter End'))\n",
    "\n",
    "for x in range(start,end):\n",
    "    for y in range(1,11):\n",
    "        print(f'{x} X {y} = {x*y} ')\n",
    "    print('..............')  \n",
    "       "
   ]
  },
  {
   "cell_type": "markdown",
   "id": "27bb3220",
   "metadata": {},
   "source": [
    "# make a function for mulplication table\n",
    "### use start& end as parameters in the function"
   ]
  },
  {
   "cell_type": "code",
   "execution_count": 4,
   "id": "d597ede8",
   "metadata": {},
   "outputs": [
    {
     "name": "stdout",
     "output_type": "stream",
     "text": [
      "4 X 1 = 4 \n",
      "4 X 2 = 8 \n",
      "4 X 3 = 12 \n",
      "4 X 4 = 16 \n",
      "4 X 5 = 20 \n",
      "4 X 6 = 24 \n",
      "4 X 7 = 28 \n",
      "4 X 8 = 32 \n",
      "4 X 9 = 36 \n",
      "4 X 10 = 40 \n",
      "5 X 1 = 5 \n",
      "5 X 2 = 10 \n",
      "5 X 3 = 15 \n",
      "5 X 4 = 20 \n",
      "5 X 5 = 25 \n",
      "5 X 6 = 30 \n",
      "5 X 7 = 35 \n",
      "5 X 8 = 40 \n",
      "5 X 9 = 45 \n",
      "5 X 10 = 50 \n",
      "6 X 1 = 6 \n",
      "6 X 2 = 12 \n",
      "6 X 3 = 18 \n",
      "6 X 4 = 24 \n",
      "6 X 5 = 30 \n",
      "6 X 6 = 36 \n",
      "6 X 7 = 42 \n",
      "6 X 8 = 48 \n",
      "6 X 9 = 54 \n",
      "6 X 10 = 60 \n",
      "7 X 1 = 7 \n",
      "7 X 2 = 14 \n",
      "7 X 3 = 21 \n",
      "7 X 4 = 28 \n",
      "7 X 5 = 35 \n",
      "7 X 6 = 42 \n",
      "7 X 7 = 49 \n",
      "7 X 8 = 56 \n",
      "7 X 9 = 63 \n",
      "7 X 10 = 70 \n",
      "..............\n"
     ]
    }
   ],
   "source": [
    " def multplication_table(start,end):\n",
    "      \n",
    "            for x in range(start,end):\n",
    "                for y in range(1,11):\n",
    "                    print(f'{x} X {y} = {x*y} ')\n",
    "            print('..............')\n",
    "    \n",
    "multplication_table(4,8)        \n",
    "            \n",
    "        \n",
    "    \n",
    "   \n",
    "        \n"
   ]
  },
  {
   "cell_type": "code",
   "execution_count": null,
   "id": "1927db5f",
   "metadata": {},
   "outputs": [],
   "source": []
  },
  {
   "cell_type": "code",
   "execution_count": null,
   "id": "b3c18c26",
   "metadata": {},
   "outputs": [],
   "source": []
  }
 ],
 "metadata": {
  "kernelspec": {
   "display_name": "Python 3 (ipykernel)",
   "language": "python",
   "name": "python3"
  },
  "language_info": {
   "codemirror_mode": {
    "name": "ipython",
    "version": 3
   },
   "file_extension": ".py",
   "mimetype": "text/x-python",
   "name": "python",
   "nbconvert_exporter": "python",
   "pygments_lexer": "ipython3",
   "version": "3.9.7"
  }
 },
 "nbformat": 4,
 "nbformat_minor": 5
}
